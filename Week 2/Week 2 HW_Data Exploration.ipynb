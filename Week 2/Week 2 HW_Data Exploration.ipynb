{
 "cells": [
  {
   "cell_type": "markdown",
   "metadata": {},
   "source": [
    "**Data Exploration: LA Hospitals and Medical Centers**"
   ]
  },
  {
   "cell_type": "markdown",
   "metadata": {},
   "source": [
    "I will be exploring LA Hospitals and Medical Centers. I will use shape, info, head, tail, plot, and value counts among other things to coduct my data analysis. "
   ]
  },
  {
   "cell_type": "markdown",
   "metadata": {},
   "source": [
    "I will first import the geopandas module because it is a geospatial library that will allow me to import spatial data and plot them on a map."
   ]
  },
  {
   "cell_type": "code",
   "execution_count": 1,
   "metadata": {},
   "outputs": [],
   "source": [
    "import geopandas as gpd"
   ]
  },
  {
   "cell_type": "markdown",
   "metadata": {},
   "source": [
    "Next,I will import a data set that I already uploaded to my JupyterHub space. I chose to upload a csv file that contains the locations of hospitals and medicals centers in Los Angeles. "
   ]
  },
  {
   "cell_type": "code",
   "execution_count": 2,
   "metadata": {},
   "outputs": [],
   "source": [
    "hospitals = gpd.read_file('Data/Hospitals_and_Medical_Centers.csv')"
   ]
  },
  {
   "cell_type": "markdown",
   "metadata": {},
   "source": [
    "I will use info to get an overview of my data set."
   ]
  },
  {
   "cell_type": "code",
   "execution_count": 3,
   "metadata": {},
   "outputs": [
    {
     "data": {
      "text/plain": [
       "<bound method DataFrame.info of                      X                 Y OBJECTID source ext_id  \\\n",
       "0    -118.216023506165   34.204529567002        9    211          \n",
       "1    -118.248311626627  34.0756926772272       11    211          \n",
       "2    -117.865074657506  34.1273072669199       20    211          \n",
       "3    -118.357113056219  33.8386342175713       25    211          \n",
       "4    -118.257443036499   34.128058406799       35    211          \n",
       "..                 ...               ...      ...    ...    ...   \n",
       "160   -118.39694295652  34.0231952664245    71348                 \n",
       "161   -118.39694295652  34.0231952664245    71349                 \n",
       "162   -118.39694295652  34.0231952664245    71350                 \n",
       "163  -118.325143955896   34.096445166421    71351                 \n",
       "164  -118.325143955896   34.096445166421    71352                 \n",
       "\n",
       "                         cat1                           cat2  \\\n",
       "0    Health and Mental Health  Hospitals and Medical Centers   \n",
       "1    Health and Mental Health  Hospitals and Medical Centers   \n",
       "2    Health and Mental Health  Hospitals and Medical Centers   \n",
       "3    Health and Mental Health  Hospitals and Medical Centers   \n",
       "4    Health and Mental Health  Hospitals and Medical Centers   \n",
       "..                        ...                            ...   \n",
       "160  Health and Mental Health  Hospitals and Medical Centers   \n",
       "161  Health and Mental Health  Hospitals and Medical Centers   \n",
       "162  Health and Mental Health  Hospitals and Medical Centers   \n",
       "163  Health and Mental Health  Hospitals and Medical Centers   \n",
       "164  Health and Mental Health  Hospitals and Medical Centers   \n",
       "\n",
       "                     cat3                                           org_name  \\\n",
       "0           911 Receiving                                                      \n",
       "1    Respiratory Hospital                                                      \n",
       "2           911 Receiving                                                      \n",
       "3           911 Receiving  Providence Little  Company of Mary Medical Center   \n",
       "4           911 Receiving                                                      \n",
       "..                    ...                                                ...   \n",
       "160                                                                            \n",
       "161         911 Receiving                                                      \n",
       "162            Acute Care                                                      \n",
       "163                                                                            \n",
       "164            Acute Care                                                      \n",
       "\n",
       "                                                  Name  ...  \\\n",
       "0                               Verdugo Hills Hospital  ...   \n",
       "1    Barlow Respiratory Hospital - Los Angeles (Mai...  ...   \n",
       "2                          Glendora Community Hospital  ...   \n",
       "3    Providence Little Company Of Mary Medical Cent...  ...   \n",
       "4         Glendale Memorial Hospital And Health Center  ...   \n",
       "..                                                 ...  ...   \n",
       "160        Southern California Hospital at Culver City  ...   \n",
       "161        Southern California Hospital at Culver City  ...   \n",
       "162        Southern California Hospital at Culver City  ...   \n",
       "163          Southern California Hospital at Hollywood  ...   \n",
       "164          Southern California Hospital at Hollywood  ...   \n",
       "\n",
       "                                       link use_type     latitude  \\\n",
       "0      http://egis3.lacounty.gov/lms/?p=560  publish   34.2045296   \n",
       "1      http://egis3.lacounty.gov/lms/?p=561  publish  34.07569271   \n",
       "2      http://egis3.lacounty.gov/lms/?p=568  publish   34.1273073   \n",
       "3      http://egis3.lacounty.gov/lms/?p=569  publish  33.83863425   \n",
       "4      http://egis3.lacounty.gov/lms/?p=570  publish  34.12805844   \n",
       "..                                      ...      ...          ...   \n",
       "160  http://egis3.lacounty.gov/lms/?p=80733  publish   34.0231953   \n",
       "161  http://egis3.lacounty.gov/lms/?p=80733  publish   34.0231953   \n",
       "162  http://egis3.lacounty.gov/lms/?p=80733  publish   34.0231953   \n",
       "163  http://egis3.lacounty.gov/lms/?p=80738  publish   34.0964452   \n",
       "164  http://egis3.lacounty.gov/lms/?p=80738  publish   34.0964452   \n",
       "\n",
       "         longitude            date_updated email dis_status           POINT_X  \\\n",
       "0    -118.21602345  2016/01/29 10:45:00+00                   6496353.35362938   \n",
       "1    -118.24831157  2016/01/21 15:56:47+00                   6486474.89536797   \n",
       "2     -117.8650746  2016/01/22 14:39:39+00                   6602504.18889947   \n",
       "3      -118.357113  2016/01/27 11:34:40+00                   6453220.51404221   \n",
       "4    -118.25744298  2016/01/22 16:10:02+00                   6483758.47166698   \n",
       "..             ...                     ...   ...        ...               ...   \n",
       "160   -118.3969429  2016/02/02 13:21:01+00                   6441390.07051155   \n",
       "161   -118.3969429  2016/02/02 13:21:01+00                   6441390.07051155   \n",
       "162   -118.3969429  2016/02/02 13:21:01+00                   6441390.07051155   \n",
       "163   -118.3251439  2016/02/03 11:38:45+00                   6463232.49664289   \n",
       "164   -118.3251439  2016/02/03 11:38:45+00                   6463232.49664289   \n",
       "\n",
       "              POINT_Y geometry  \n",
       "0    1896882.73013289     None  \n",
       "1    1850019.30548723     None  \n",
       "2    1868737.35400906     None  \n",
       "3    1763848.31608415     None  \n",
       "4    1869083.06919689     None  \n",
       "..                ...      ...  \n",
       "160  1831059.08651797     None  \n",
       "161  1831059.08651797     None  \n",
       "162  1831059.08651797     None  \n",
       "163   1857637.8578354     None  \n",
       "164   1857637.8578354     None  \n",
       "\n",
       "[165 rows x 32 columns]>"
      ]
     },
     "execution_count": 3,
     "metadata": {},
     "output_type": "execute_result"
    }
   ],
   "source": [
    "hospitals.info"
   ]
  },
  {
   "cell_type": "markdown",
   "metadata": {},
   "source": [
    "Add markdown cells that describe the output of each operation"
   ]
  },
  {
   "cell_type": "markdown",
   "metadata": {},
   "source": [
    "After running info, I can see that this data set contains the names of the hospitals and their latitude and longitude."
   ]
  },
  {
   "cell_type": "markdown",
   "metadata": {},
   "source": [
    "I am curious to see how many rows and columns there are in the data set so I will run shape to tell me."
   ]
  },
  {
   "cell_type": "code",
   "execution_count": 5,
   "metadata": {},
   "outputs": [
    {
     "data": {
      "text/plain": [
       "(165, 32)"
      ]
     },
     "execution_count": 5,
     "metadata": {},
     "output_type": "execute_result"
    }
   ],
   "source": [
    "hospitals.shape"
   ]
  },
  {
   "cell_type": "markdown",
   "metadata": {},
   "source": [
    "Shape tells me that there are 165 rows and 32 columns in the data set."
   ]
  },
  {
   "cell_type": "markdown",
   "metadata": {},
   "source": [
    "Next, I want to know what the first 5 rows look like so I will run head."
   ]
  },
  {
   "cell_type": "code",
   "execution_count": 6,
   "metadata": {
    "scrolled": true
   },
   "outputs": [
    {
     "data": {
      "text/html": [
       "<div>\n",
       "<style scoped>\n",
       "    .dataframe tbody tr th:only-of-type {\n",
       "        vertical-align: middle;\n",
       "    }\n",
       "\n",
       "    .dataframe tbody tr th {\n",
       "        vertical-align: top;\n",
       "    }\n",
       "\n",
       "    .dataframe thead th {\n",
       "        text-align: right;\n",
       "    }\n",
       "</style>\n",
       "<table border=\"1\" class=\"dataframe\">\n",
       "  <thead>\n",
       "    <tr style=\"text-align: right;\">\n",
       "      <th></th>\n",
       "      <th>X</th>\n",
       "      <th>Y</th>\n",
       "      <th>OBJECTID</th>\n",
       "      <th>source</th>\n",
       "      <th>ext_id</th>\n",
       "      <th>cat1</th>\n",
       "      <th>cat2</th>\n",
       "      <th>cat3</th>\n",
       "      <th>org_name</th>\n",
       "      <th>Name</th>\n",
       "      <th>...</th>\n",
       "      <th>link</th>\n",
       "      <th>use_type</th>\n",
       "      <th>latitude</th>\n",
       "      <th>longitude</th>\n",
       "      <th>date_updated</th>\n",
       "      <th>email</th>\n",
       "      <th>dis_status</th>\n",
       "      <th>POINT_X</th>\n",
       "      <th>POINT_Y</th>\n",
       "      <th>geometry</th>\n",
       "    </tr>\n",
       "  </thead>\n",
       "  <tbody>\n",
       "    <tr>\n",
       "      <th>0</th>\n",
       "      <td>-118.216023506165</td>\n",
       "      <td>34.204529567002</td>\n",
       "      <td>9</td>\n",
       "      <td>211</td>\n",
       "      <td></td>\n",
       "      <td>Health and Mental Health</td>\n",
       "      <td>Hospitals and Medical Centers</td>\n",
       "      <td>911 Receiving</td>\n",
       "      <td></td>\n",
       "      <td>Verdugo Hills Hospital</td>\n",
       "      <td>...</td>\n",
       "      <td>http://egis3.lacounty.gov/lms/?p=560</td>\n",
       "      <td>publish</td>\n",
       "      <td>34.2045296</td>\n",
       "      <td>-118.21602345</td>\n",
       "      <td>2016/01/29 10:45:00+00</td>\n",
       "      <td></td>\n",
       "      <td></td>\n",
       "      <td>6496353.35362938</td>\n",
       "      <td>1896882.73013289</td>\n",
       "      <td>None</td>\n",
       "    </tr>\n",
       "    <tr>\n",
       "      <th>1</th>\n",
       "      <td>-118.248311626627</td>\n",
       "      <td>34.0756926772272</td>\n",
       "      <td>11</td>\n",
       "      <td>211</td>\n",
       "      <td></td>\n",
       "      <td>Health and Mental Health</td>\n",
       "      <td>Hospitals and Medical Centers</td>\n",
       "      <td>Respiratory Hospital</td>\n",
       "      <td></td>\n",
       "      <td>Barlow Respiratory Hospital - Los Angeles (Mai...</td>\n",
       "      <td>...</td>\n",
       "      <td>http://egis3.lacounty.gov/lms/?p=561</td>\n",
       "      <td>publish</td>\n",
       "      <td>34.07569271</td>\n",
       "      <td>-118.24831157</td>\n",
       "      <td>2016/01/21 15:56:47+00</td>\n",
       "      <td></td>\n",
       "      <td></td>\n",
       "      <td>6486474.89536797</td>\n",
       "      <td>1850019.30548723</td>\n",
       "      <td>None</td>\n",
       "    </tr>\n",
       "    <tr>\n",
       "      <th>2</th>\n",
       "      <td>-117.865074657506</td>\n",
       "      <td>34.1273072669199</td>\n",
       "      <td>20</td>\n",
       "      <td>211</td>\n",
       "      <td></td>\n",
       "      <td>Health and Mental Health</td>\n",
       "      <td>Hospitals and Medical Centers</td>\n",
       "      <td>911 Receiving</td>\n",
       "      <td></td>\n",
       "      <td>Glendora Community Hospital</td>\n",
       "      <td>...</td>\n",
       "      <td>http://egis3.lacounty.gov/lms/?p=568</td>\n",
       "      <td>publish</td>\n",
       "      <td>34.1273073</td>\n",
       "      <td>-117.8650746</td>\n",
       "      <td>2016/01/22 14:39:39+00</td>\n",
       "      <td></td>\n",
       "      <td></td>\n",
       "      <td>6602504.18889947</td>\n",
       "      <td>1868737.35400906</td>\n",
       "      <td>None</td>\n",
       "    </tr>\n",
       "    <tr>\n",
       "      <th>3</th>\n",
       "      <td>-118.357113056219</td>\n",
       "      <td>33.8386342175713</td>\n",
       "      <td>25</td>\n",
       "      <td>211</td>\n",
       "      <td></td>\n",
       "      <td>Health and Mental Health</td>\n",
       "      <td>Hospitals and Medical Centers</td>\n",
       "      <td>911 Receiving</td>\n",
       "      <td>Providence Little  Company of Mary Medical Center</td>\n",
       "      <td>Providence Little Company Of Mary Medical Cent...</td>\n",
       "      <td>...</td>\n",
       "      <td>http://egis3.lacounty.gov/lms/?p=569</td>\n",
       "      <td>publish</td>\n",
       "      <td>33.83863425</td>\n",
       "      <td>-118.357113</td>\n",
       "      <td>2016/01/27 11:34:40+00</td>\n",
       "      <td></td>\n",
       "      <td></td>\n",
       "      <td>6453220.51404221</td>\n",
       "      <td>1763848.31608415</td>\n",
       "      <td>None</td>\n",
       "    </tr>\n",
       "    <tr>\n",
       "      <th>4</th>\n",
       "      <td>-118.257443036499</td>\n",
       "      <td>34.128058406799</td>\n",
       "      <td>35</td>\n",
       "      <td>211</td>\n",
       "      <td></td>\n",
       "      <td>Health and Mental Health</td>\n",
       "      <td>Hospitals and Medical Centers</td>\n",
       "      <td>911 Receiving</td>\n",
       "      <td></td>\n",
       "      <td>Glendale Memorial Hospital And Health Center</td>\n",
       "      <td>...</td>\n",
       "      <td>http://egis3.lacounty.gov/lms/?p=570</td>\n",
       "      <td>publish</td>\n",
       "      <td>34.12805844</td>\n",
       "      <td>-118.25744298</td>\n",
       "      <td>2016/01/22 16:10:02+00</td>\n",
       "      <td></td>\n",
       "      <td></td>\n",
       "      <td>6483758.47166698</td>\n",
       "      <td>1869083.06919689</td>\n",
       "      <td>None</td>\n",
       "    </tr>\n",
       "  </tbody>\n",
       "</table>\n",
       "<p>5 rows × 32 columns</p>\n",
       "</div>"
      ],
      "text/plain": [
       "                   X                 Y OBJECTID source ext_id  \\\n",
       "0  -118.216023506165   34.204529567002        9    211          \n",
       "1  -118.248311626627  34.0756926772272       11    211          \n",
       "2  -117.865074657506  34.1273072669199       20    211          \n",
       "3  -118.357113056219  33.8386342175713       25    211          \n",
       "4  -118.257443036499   34.128058406799       35    211          \n",
       "\n",
       "                       cat1                           cat2  \\\n",
       "0  Health and Mental Health  Hospitals and Medical Centers   \n",
       "1  Health and Mental Health  Hospitals and Medical Centers   \n",
       "2  Health and Mental Health  Hospitals and Medical Centers   \n",
       "3  Health and Mental Health  Hospitals and Medical Centers   \n",
       "4  Health and Mental Health  Hospitals and Medical Centers   \n",
       "\n",
       "                   cat3                                           org_name  \\\n",
       "0         911 Receiving                                                      \n",
       "1  Respiratory Hospital                                                      \n",
       "2         911 Receiving                                                      \n",
       "3         911 Receiving  Providence Little  Company of Mary Medical Center   \n",
       "4         911 Receiving                                                      \n",
       "\n",
       "                                                Name  ...  \\\n",
       "0                             Verdugo Hills Hospital  ...   \n",
       "1  Barlow Respiratory Hospital - Los Angeles (Mai...  ...   \n",
       "2                        Glendora Community Hospital  ...   \n",
       "3  Providence Little Company Of Mary Medical Cent...  ...   \n",
       "4       Glendale Memorial Hospital And Health Center  ...   \n",
       "\n",
       "                                   link use_type     latitude      longitude  \\\n",
       "0  http://egis3.lacounty.gov/lms/?p=560  publish   34.2045296  -118.21602345   \n",
       "1  http://egis3.lacounty.gov/lms/?p=561  publish  34.07569271  -118.24831157   \n",
       "2  http://egis3.lacounty.gov/lms/?p=568  publish   34.1273073   -117.8650746   \n",
       "3  http://egis3.lacounty.gov/lms/?p=569  publish  33.83863425    -118.357113   \n",
       "4  http://egis3.lacounty.gov/lms/?p=570  publish  34.12805844  -118.25744298   \n",
       "\n",
       "             date_updated email dis_status           POINT_X  \\\n",
       "0  2016/01/29 10:45:00+00                   6496353.35362938   \n",
       "1  2016/01/21 15:56:47+00                   6486474.89536797   \n",
       "2  2016/01/22 14:39:39+00                   6602504.18889947   \n",
       "3  2016/01/27 11:34:40+00                   6453220.51404221   \n",
       "4  2016/01/22 16:10:02+00                   6483758.47166698   \n",
       "\n",
       "            POINT_Y geometry  \n",
       "0  1896882.73013289     None  \n",
       "1  1850019.30548723     None  \n",
       "2  1868737.35400906     None  \n",
       "3  1763848.31608415     None  \n",
       "4  1869083.06919689     None  \n",
       "\n",
       "[5 rows x 32 columns]"
      ]
     },
     "execution_count": 6,
     "metadata": {},
     "output_type": "execute_result"
    }
   ],
   "source": [
    "hospitals.head()"
   ]
  },
  {
   "cell_type": "markdown",
   "metadata": {},
   "source": [
    "From running head, I can see that the first 5 hospitals include Verdugo Hills Hospital and Barlow Respiratory Hospitals among others."
   ]
  },
  {
   "cell_type": "markdown",
   "metadata": {},
   "source": [
    "Now I want to see what the last 5 rows look like so I will run tail."
   ]
  },
  {
   "cell_type": "code",
   "execution_count": 7,
   "metadata": {},
   "outputs": [
    {
     "data": {
      "text/html": [
       "<div>\n",
       "<style scoped>\n",
       "    .dataframe tbody tr th:only-of-type {\n",
       "        vertical-align: middle;\n",
       "    }\n",
       "\n",
       "    .dataframe tbody tr th {\n",
       "        vertical-align: top;\n",
       "    }\n",
       "\n",
       "    .dataframe thead th {\n",
       "        text-align: right;\n",
       "    }\n",
       "</style>\n",
       "<table border=\"1\" class=\"dataframe\">\n",
       "  <thead>\n",
       "    <tr style=\"text-align: right;\">\n",
       "      <th></th>\n",
       "      <th>X</th>\n",
       "      <th>Y</th>\n",
       "      <th>OBJECTID</th>\n",
       "      <th>source</th>\n",
       "      <th>ext_id</th>\n",
       "      <th>cat1</th>\n",
       "      <th>cat2</th>\n",
       "      <th>cat3</th>\n",
       "      <th>org_name</th>\n",
       "      <th>Name</th>\n",
       "      <th>...</th>\n",
       "      <th>link</th>\n",
       "      <th>use_type</th>\n",
       "      <th>latitude</th>\n",
       "      <th>longitude</th>\n",
       "      <th>date_updated</th>\n",
       "      <th>email</th>\n",
       "      <th>dis_status</th>\n",
       "      <th>POINT_X</th>\n",
       "      <th>POINT_Y</th>\n",
       "      <th>geometry</th>\n",
       "    </tr>\n",
       "  </thead>\n",
       "  <tbody>\n",
       "    <tr>\n",
       "      <th>160</th>\n",
       "      <td>-118.39694295652</td>\n",
       "      <td>34.0231952664245</td>\n",
       "      <td>71348</td>\n",
       "      <td></td>\n",
       "      <td></td>\n",
       "      <td>Health and Mental Health</td>\n",
       "      <td>Hospitals and Medical Centers</td>\n",
       "      <td></td>\n",
       "      <td></td>\n",
       "      <td>Southern California Hospital at Culver City</td>\n",
       "      <td>...</td>\n",
       "      <td>http://egis3.lacounty.gov/lms/?p=80733</td>\n",
       "      <td>publish</td>\n",
       "      <td>34.0231953</td>\n",
       "      <td>-118.3969429</td>\n",
       "      <td>2016/02/02 13:21:01+00</td>\n",
       "      <td></td>\n",
       "      <td></td>\n",
       "      <td>6441390.07051155</td>\n",
       "      <td>1831059.08651797</td>\n",
       "      <td>None</td>\n",
       "    </tr>\n",
       "    <tr>\n",
       "      <th>161</th>\n",
       "      <td>-118.39694295652</td>\n",
       "      <td>34.0231952664245</td>\n",
       "      <td>71349</td>\n",
       "      <td></td>\n",
       "      <td></td>\n",
       "      <td>Health and Mental Health</td>\n",
       "      <td>Hospitals and Medical Centers</td>\n",
       "      <td>911 Receiving</td>\n",
       "      <td></td>\n",
       "      <td>Southern California Hospital at Culver City</td>\n",
       "      <td>...</td>\n",
       "      <td>http://egis3.lacounty.gov/lms/?p=80733</td>\n",
       "      <td>publish</td>\n",
       "      <td>34.0231953</td>\n",
       "      <td>-118.3969429</td>\n",
       "      <td>2016/02/02 13:21:01+00</td>\n",
       "      <td></td>\n",
       "      <td></td>\n",
       "      <td>6441390.07051155</td>\n",
       "      <td>1831059.08651797</td>\n",
       "      <td>None</td>\n",
       "    </tr>\n",
       "    <tr>\n",
       "      <th>162</th>\n",
       "      <td>-118.39694295652</td>\n",
       "      <td>34.0231952664245</td>\n",
       "      <td>71350</td>\n",
       "      <td></td>\n",
       "      <td></td>\n",
       "      <td>Health and Mental Health</td>\n",
       "      <td>Hospitals and Medical Centers</td>\n",
       "      <td>Acute Care</td>\n",
       "      <td></td>\n",
       "      <td>Southern California Hospital at Culver City</td>\n",
       "      <td>...</td>\n",
       "      <td>http://egis3.lacounty.gov/lms/?p=80733</td>\n",
       "      <td>publish</td>\n",
       "      <td>34.0231953</td>\n",
       "      <td>-118.3969429</td>\n",
       "      <td>2016/02/02 13:21:01+00</td>\n",
       "      <td></td>\n",
       "      <td></td>\n",
       "      <td>6441390.07051155</td>\n",
       "      <td>1831059.08651797</td>\n",
       "      <td>None</td>\n",
       "    </tr>\n",
       "    <tr>\n",
       "      <th>163</th>\n",
       "      <td>-118.325143955896</td>\n",
       "      <td>34.096445166421</td>\n",
       "      <td>71351</td>\n",
       "      <td></td>\n",
       "      <td></td>\n",
       "      <td>Health and Mental Health</td>\n",
       "      <td>Hospitals and Medical Centers</td>\n",
       "      <td></td>\n",
       "      <td></td>\n",
       "      <td>Southern California Hospital at Hollywood</td>\n",
       "      <td>...</td>\n",
       "      <td>http://egis3.lacounty.gov/lms/?p=80738</td>\n",
       "      <td>publish</td>\n",
       "      <td>34.0964452</td>\n",
       "      <td>-118.3251439</td>\n",
       "      <td>2016/02/03 11:38:45+00</td>\n",
       "      <td></td>\n",
       "      <td></td>\n",
       "      <td>6463232.49664289</td>\n",
       "      <td>1857637.8578354</td>\n",
       "      <td>None</td>\n",
       "    </tr>\n",
       "    <tr>\n",
       "      <th>164</th>\n",
       "      <td>-118.325143955896</td>\n",
       "      <td>34.096445166421</td>\n",
       "      <td>71352</td>\n",
       "      <td></td>\n",
       "      <td></td>\n",
       "      <td>Health and Mental Health</td>\n",
       "      <td>Hospitals and Medical Centers</td>\n",
       "      <td>Acute Care</td>\n",
       "      <td></td>\n",
       "      <td>Southern California Hospital at Hollywood</td>\n",
       "      <td>...</td>\n",
       "      <td>http://egis3.lacounty.gov/lms/?p=80738</td>\n",
       "      <td>publish</td>\n",
       "      <td>34.0964452</td>\n",
       "      <td>-118.3251439</td>\n",
       "      <td>2016/02/03 11:38:45+00</td>\n",
       "      <td></td>\n",
       "      <td></td>\n",
       "      <td>6463232.49664289</td>\n",
       "      <td>1857637.8578354</td>\n",
       "      <td>None</td>\n",
       "    </tr>\n",
       "  </tbody>\n",
       "</table>\n",
       "<p>5 rows × 32 columns</p>\n",
       "</div>"
      ],
      "text/plain": [
       "                     X                 Y OBJECTID source ext_id  \\\n",
       "160   -118.39694295652  34.0231952664245    71348                 \n",
       "161   -118.39694295652  34.0231952664245    71349                 \n",
       "162   -118.39694295652  34.0231952664245    71350                 \n",
       "163  -118.325143955896   34.096445166421    71351                 \n",
       "164  -118.325143955896   34.096445166421    71352                 \n",
       "\n",
       "                         cat1                           cat2           cat3  \\\n",
       "160  Health and Mental Health  Hospitals and Medical Centers                  \n",
       "161  Health and Mental Health  Hospitals and Medical Centers  911 Receiving   \n",
       "162  Health and Mental Health  Hospitals and Medical Centers     Acute Care   \n",
       "163  Health and Mental Health  Hospitals and Medical Centers                  \n",
       "164  Health and Mental Health  Hospitals and Medical Centers     Acute Care   \n",
       "\n",
       "    org_name                                         Name  ...  \\\n",
       "160           Southern California Hospital at Culver City  ...   \n",
       "161           Southern California Hospital at Culver City  ...   \n",
       "162           Southern California Hospital at Culver City  ...   \n",
       "163             Southern California Hospital at Hollywood  ...   \n",
       "164             Southern California Hospital at Hollywood  ...   \n",
       "\n",
       "                                       link use_type    latitude  \\\n",
       "160  http://egis3.lacounty.gov/lms/?p=80733  publish  34.0231953   \n",
       "161  http://egis3.lacounty.gov/lms/?p=80733  publish  34.0231953   \n",
       "162  http://egis3.lacounty.gov/lms/?p=80733  publish  34.0231953   \n",
       "163  http://egis3.lacounty.gov/lms/?p=80738  publish  34.0964452   \n",
       "164  http://egis3.lacounty.gov/lms/?p=80738  publish  34.0964452   \n",
       "\n",
       "        longitude            date_updated email dis_status           POINT_X  \\\n",
       "160  -118.3969429  2016/02/02 13:21:01+00                   6441390.07051155   \n",
       "161  -118.3969429  2016/02/02 13:21:01+00                   6441390.07051155   \n",
       "162  -118.3969429  2016/02/02 13:21:01+00                   6441390.07051155   \n",
       "163  -118.3251439  2016/02/03 11:38:45+00                   6463232.49664289   \n",
       "164  -118.3251439  2016/02/03 11:38:45+00                   6463232.49664289   \n",
       "\n",
       "              POINT_Y geometry  \n",
       "160  1831059.08651797     None  \n",
       "161  1831059.08651797     None  \n",
       "162  1831059.08651797     None  \n",
       "163   1857637.8578354     None  \n",
       "164   1857637.8578354     None  \n",
       "\n",
       "[5 rows x 32 columns]"
      ]
     },
     "execution_count": 7,
     "metadata": {},
     "output_type": "execute_result"
    }
   ],
   "source": [
    "hospitals.tail()"
   ]
  },
  {
   "cell_type": "markdown",
   "metadata": {},
   "source": [
    "Tail tells me that Southern California Hospital at Hollywood and Southern California Hospital at Culver City make up the last 5 rows."
   ]
  },
  {
   "cell_type": "markdown",
   "metadata": {},
   "source": [
    "I am curious to know the names of all of the columns in my data set so I will use list to see the names."
   ]
  },
  {
   "cell_type": "code",
   "execution_count": 8,
   "metadata": {},
   "outputs": [
    {
     "data": {
      "text/plain": [
       "['X',\n",
       " 'Y',\n",
       " 'OBJECTID',\n",
       " 'source',\n",
       " 'ext_id',\n",
       " 'cat1',\n",
       " 'cat2',\n",
       " 'cat3',\n",
       " 'org_name',\n",
       " 'Name',\n",
       " 'addrln1',\n",
       " 'addrln2',\n",
       " 'city',\n",
       " 'state',\n",
       " 'hours',\n",
       " 'phones',\n",
       " 'url',\n",
       " 'info1',\n",
       " 'info2',\n",
       " 'post_id',\n",
       " 'description',\n",
       " 'zip',\n",
       " 'link',\n",
       " 'use_type',\n",
       " 'latitude',\n",
       " 'longitude',\n",
       " 'date_updated',\n",
       " 'email',\n",
       " 'dis_status',\n",
       " 'POINT_X',\n",
       " 'POINT_Y',\n",
       " 'geometry']"
      ]
     },
     "execution_count": 8,
     "metadata": {},
     "output_type": "execute_result"
    }
   ],
   "source": [
    "hospitals.columns.to_list()"
   ]
  },
  {
   "cell_type": "markdown",
   "metadata": {},
   "source": [
    "From list, I can see that the column names include Name, City, latitude, and longitude among others."
   ]
  },
  {
   "cell_type": "markdown",
   "metadata": {},
   "source": [
    "Now I will try to simplify my data set to only contain a couple of columns that are of interest to me. I will create a variable that says the 3 columns that I want. "
   ]
  },
  {
   "cell_type": "code",
   "execution_count": 10,
   "metadata": {},
   "outputs": [],
   "source": [
    "desired_columns= ['Name', 'latitude', 'longitude']"
   ]
  },
  {
   "cell_type": "markdown",
   "metadata": {},
   "source": [
    "I want to now change my data set so that it only contains those 3 columns. "
   ]
  },
  {
   "cell_type": "code",
   "execution_count": 11,
   "metadata": {},
   "outputs": [],
   "source": [
    "\n",
    "hospitals=hospitals[desired_columns]"
   ]
  },
  {
   "cell_type": "markdown",
   "metadata": {},
   "source": [
    "I will use info to see if my data set is now indeed only the 3 columns I asked for."
   ]
  },
  {
   "cell_type": "code",
   "execution_count": 12,
   "metadata": {},
   "outputs": [
    {
     "data": {
      "text/plain": [
       "<bound method DataFrame.info of                                                   Name     latitude  \\\n",
       "0                               Verdugo Hills Hospital   34.2045296   \n",
       "1    Barlow Respiratory Hospital - Los Angeles (Mai...  34.07569271   \n",
       "2                          Glendora Community Hospital   34.1273073   \n",
       "3    Providence Little Company Of Mary Medical Cent...  33.83863425   \n",
       "4         Glendale Memorial Hospital And Health Center  34.12805844   \n",
       "..                                                 ...          ...   \n",
       "160        Southern California Hospital at Culver City   34.0231953   \n",
       "161        Southern California Hospital at Culver City   34.0231953   \n",
       "162        Southern California Hospital at Culver City   34.0231953   \n",
       "163          Southern California Hospital at Hollywood   34.0964452   \n",
       "164          Southern California Hospital at Hollywood   34.0964452   \n",
       "\n",
       "         longitude  \n",
       "0    -118.21602345  \n",
       "1    -118.24831157  \n",
       "2     -117.8650746  \n",
       "3      -118.357113  \n",
       "4    -118.25744298  \n",
       "..             ...  \n",
       "160   -118.3969429  \n",
       "161   -118.3969429  \n",
       "162   -118.3969429  \n",
       "163   -118.3251439  \n",
       "164   -118.3251439  \n",
       "\n",
       "[165 rows x 3 columns]>"
      ]
     },
     "execution_count": 12,
     "metadata": {},
     "output_type": "execute_result"
    }
   ],
   "source": [
    "hospitals.info"
   ]
  },
  {
   "cell_type": "markdown",
   "metadata": {},
   "source": [
    "I am curious to know how many times each hospital appears in the data set so I will use value counts to find out."
   ]
  },
  {
   "cell_type": "code",
   "execution_count": 13,
   "metadata": {},
   "outputs": [
    {
     "data": {
      "text/plain": [
       "Cedars-Sinai Medical Center                               9\n",
       "California Hospital Medical Center                        7\n",
       "Centinela Hospital Medical Center                         5\n",
       "Beverly Hospital                                          5\n",
       "Antelope Valley Hospital                                  5\n",
       "                                                         ..\n",
       "Glendora Community Hospital                               1\n",
       "City of Hope National Medical Center                      1\n",
       "Pomona Valley Hospital Medical Center                     1\n",
       "Veterans Administration - Long Beach Healthcare System    1\n",
       "Kaiser Permanente - South Bay Medical Center              1\n",
       "Name: Name, Length: 117, dtype: int64"
      ]
     },
     "execution_count": 13,
     "metadata": {},
     "output_type": "execute_result"
    }
   ],
   "source": [
    "hospitals['Name'].value_counts()"
   ]
  },
  {
   "cell_type": "markdown",
   "metadata": {},
   "source": [
    "I can now see that Cedars-Sinai Medical Center appears the most times in the data set. "
   ]
  },
  {
   "cell_type": "markdown",
   "metadata": {},
   "source": [
    "Now I want to make a graph that shows how often each hospital appears in the data set. I will first make the value counts equal to a variable. "
   ]
  },
  {
   "cell_type": "code",
   "execution_count": 14,
   "metadata": {},
   "outputs": [],
   "source": [
    "hospitals=hospitals['Name'].value_counts()"
   ]
  },
  {
   "cell_type": "markdown",
   "metadata": {},
   "source": [
    "Now that hospitals equals value counts I can create my graph by using plot."
   ]
  },
  {
   "cell_type": "code",
   "execution_count": 15,
   "metadata": {},
   "outputs": [
    {
     "data": {
      "text/plain": [
       "<matplotlib.axes._subplots.AxesSubplot at 0x7f21ae7a3d30>"
      ]
     },
     "execution_count": 15,
     "metadata": {},
     "output_type": "execute_result"
    },
    {
     "data": {
      "image/png": "[encoded data removed]",
      "text/plain": [
       "<Figure size 432x288 with 1 Axes>"
      ]
     },
     "metadata": {
      "needs_background": "light"
     },
     "output_type": "display_data"
    }
   ],
   "source": [
    "hospitals.plot()"
   ]
  },
  {
   "cell_type": "markdown",
   "metadata": {},
   "source": [
    "This graph shows me what the frequency of hospitals appearing in the data set looks like. "
   ]
  }
 ],
 "metadata": {
  "kernelspec": {
   "display_name": "Python 3",
   "language": "python",
   "name": "python3"
  },
  "language_info": {
   "codemirror_mode": {
    "name": "ipython",
    "version": 3
   },
   "file_extension": ".py",
   "mimetype": "text/x-python",
   "name": "python",
   "nbconvert_exporter": "python",
   "pygments_lexer": "ipython3",
   "version": "3.8.5"
  },
  "toc": {
   "base_numbering": 1,
   "nav_menu": {},
   "number_sections": true,
   "sideBar": true,
   "skip_h1_title": false,
   "title_cell": "Table of Contents",
   "title_sidebar": "Contents",
   "toc_cell": false,
   "toc_position": {},
   "toc_section_display": true,
   "toc_window_display": false
  }
 },
 "nbformat": 4,
 "nbformat_minor": 4
}
